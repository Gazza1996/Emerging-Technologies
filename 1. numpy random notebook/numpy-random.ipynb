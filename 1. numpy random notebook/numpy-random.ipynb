{
 "cells": [
  {
   "cell_type": "markdown",
   "metadata": {},
   "source": [
    "![numpy logo](https://upload.wikimedia.org/wikipedia/commons/thumb/1/1a/NumPy_logo.svg/1200px-NumPy_logo.svg.png)\n",
    "# numpy-random package\n",
    "NumPy is the fundamental package for scientific computing in Python. It is a Python library that provides a multidimensional array object, various derived objects (such as masked arrays and matrices), and an assortment of routines for fast operations on arrays, including mathematical, logical, shape manipulation, sorting, selecting, I/O, discrete Fourier transforms, basic linear algebra, basic statistical operations, random simulation and much more."
   ]
  },
  {
   "cell_type": "markdown",
   "metadata": {},
   "source": [
    "## Getting started"
   ]
  },
  {
   "cell_type": "code",
   "execution_count": 1,
   "metadata": {},
   "outputs": [],
   "source": [
    "# import library\n",
    "import numpy as np\n",
    "\n",
    "## numpy must be imported at the beginning of the notebook and it can be referenced anyway you please\n",
    "## I have gone for a simple np"
   ]
  },
  {
   "cell_type": "markdown",
   "metadata": {},
   "source": [
    "## Numpy Random\n",
    "This function allows us to randomly generate an array of numbers"
   ]
  },
  {
   "cell_type": "code",
   "execution_count": 2,
   "metadata": {},
   "outputs": [
    {
     "name": "stdout",
     "output_type": "stream",
     "text": [
      "[[0.4922928  0.78430439 0.29210032 0.6433188 ]\n",
      " [0.33365369 0.60901073 0.34763762 0.24907301]\n",
      " [0.13717662 0.36572558 0.84528648 0.36335437]]\n"
     ]
    }
   ],
   "source": [
    "x = np.random.rand(3,4)\n",
    "print(x)\n",
    "\n",
    "## There is more than just the one way to display random arrays."
   ]
  },
  {
   "cell_type": "code",
   "execution_count": 3,
   "metadata": {},
   "outputs": [
    {
     "name": "stdout",
     "output_type": "stream",
     "text": [
      "[1 1 0 1 1]\n"
     ]
    }
   ],
   "source": [
    "x = np.random.randint(2, size=5)\n",
    "print(x)\n",
    "\n",
    "## 5 random numbers in the arrayare displayed but will not include or be above 2"
   ]
  },
  {
   "cell_type": "code",
   "execution_count": 4,
   "metadata": {},
   "outputs": [
    {
     "data": {
      "text/plain": [
       "b'c\\xe1\\x8b\\xd4FS\\xc5\\xfb^l'"
      ]
     },
     "execution_count": 4,
     "metadata": {},
     "output_type": "execute_result"
    }
   ],
   "source": [
    "np.random.bytes(10)\n",
    "\n",
    "## the bytes function displays a random amount bytes in the array"
   ]
  },
  {
   "cell_type": "code",
   "execution_count": 5,
   "metadata": {},
   "outputs": [
    {
     "data": {
      "text/plain": [
       "array([4, 6, 3, 7, 2, 1, 8, 0, 5, 9])"
      ]
     },
     "execution_count": 5,
     "metadata": {},
     "output_type": "execute_result"
    }
   ],
   "source": [
    "arr = np.arange(10)\n",
    "np.random.shuffle(arr)\n",
    "arr\n",
    "\n",
    "## The array is shuffled for a random of 10 numbers."
   ]
  },
  {
   "cell_type": "markdown",
   "metadata": {},
   "source": [
    "## ndarray (n-dimensional arrays)\n",
    "Here we will be using the np.arange function for various methods"
   ]
  },
  {
   "cell_type": "markdown",
   "metadata": {},
   "source": [
    "The parameters for np.arange are ([start, ]stop, [step, ]dtype=None)"
   ]
  },
  {
   "cell_type": "code",
   "execution_count": 6,
   "metadata": {},
   "outputs": [
    {
     "data": {
      "text/plain": [
       "array([0, 1, 2])"
      ]
     },
     "execution_count": 6,
     "metadata": {},
     "output_type": "execute_result"
    }
   ],
   "source": [
    "# start step\n",
    "np.arange(3)\n",
    "\n",
    "## Creates a one dimensional array with 3 values starting at zero."
   ]
  },
  {
   "cell_type": "code",
   "execution_count": 7,
   "metadata": {},
   "outputs": [
    {
     "data": {
      "text/plain": [
       "array([3, 4, 5, 6])"
      ]
     },
     "execution_count": 7,
     "metadata": {},
     "output_type": "execute_result"
    }
   ],
   "source": [
    "# stop set\n",
    "np.arange(3,7)\n",
    "\n",
    "## Another example of creating an array which starts at 3 and ends at 7 but does not include 7."
   ]
  },
  {
   "cell_type": "code",
   "execution_count": 8,
   "metadata": {},
   "outputs": [
    {
     "data": {
      "text/plain": [
       "array([10, 12, 14, 16, 18, 20, 22, 24])"
      ]
     },
     "execution_count": 8,
     "metadata": {},
     "output_type": "execute_result"
    }
   ],
   "source": [
    "# step set\n",
    "np.arange(10,26,2)\n",
    "\n",
    "## This step set takes the values from 10 up to 26 but it accounts for every second value not including 26."
   ]
  },
  {
   "cell_type": "code",
   "execution_count": 9,
   "metadata": {},
   "outputs": [
    {
     "name": "stdout",
     "output_type": "stream",
     "text": [
      "[0. 1. 2. 3. 4.]\n"
     ]
    }
   ],
   "source": [
    "# dtype set \n",
    "x = np.arange(5, dtype = float)\n",
    "print (x)\n",
    "\n",
    "\n",
    "# dtype takes the values up to 5 in the array and makes sure they are assigned the correct type e.g, float."
   ]
  },
  {
   "cell_type": "markdown",
   "metadata": {},
   "source": [
    "## Math Functions\n",
    "numpy has various math functions that allow us to calculate any array. I will use the most common functions used on a daily bases."
   ]
  },
  {
   "cell_type": "code",
   "execution_count": 10,
   "metadata": {},
   "outputs": [
    {
     "name": "stdout",
     "output_type": "stream",
     "text": [
      "add [[ 6.  8.]\n",
      " [10. 12.]]\n",
      "\n",
      "Subtract [[-4. -4.]\n",
      " [-4. -4.]]\n",
      "\n",
      "Divide [[0.2        0.33333333]\n",
      " [0.42857143 0.5       ]]\n",
      "\n",
      "multiply [[ 5. 12.]\n",
      " [21. 32.]]\n",
      "\n"
     ]
    }
   ],
   "source": [
    "# Two arrays\n",
    "x = np.array([[1.0, 2.0], [3.0, 4.0]])\n",
    "y = np.array([[5.0, 6.0], [7.0, 8.0]])\n",
    "\n",
    "# add \n",
    "print(\"add\", np.add(x,y))\n",
    "print()\n",
    "\n",
    "# substract\n",
    "print(\"Subtract\", np.subtract(x,y))\n",
    "print()\n",
    "\n",
    "# divide\n",
    "print(\"Divide\", np.divide(x,y))\n",
    "print()\n",
    "\n",
    "# multiply\n",
    "print(\"multiply\", np.multiply(x,y))\n",
    "print()\n",
    "\n",
    "## I created a 2d array \n",
    "## naming them x and y respectively\n",
    "## made print lines for each function and carried out the operations in order for them to perform."
   ]
  },
  {
   "cell_type": "code",
   "execution_count": 11,
   "metadata": {},
   "outputs": [
    {
     "name": "stdout",
     "output_type": "stream",
     "text": [
      "276\n"
     ]
    }
   ],
   "source": [
    "# Another extremely useful mathematical function in numpy is the sum function in order to calculate the sum of the array numbers.\n",
    "\n",
    "x = np.array([[36, 40],[44, 48],[52, 56]])\n",
    "\n",
    "print(np.sum(x))"
   ]
  },
  {
   "cell_type": "markdown",
   "metadata": {},
   "source": [
    "## Bar Chart Sample"
   ]
  },
  {
   "cell_type": "code",
   "execution_count": 15,
   "metadata": {},
   "outputs": [
    {
     "data": {
      "image/png": "[encoded data removed]",
      "text/plain": [
       "<Figure size 432x288 with 1 Axes>"
      ]
     },
     "metadata": {},
     "output_type": "display_data"
    }
   ],
   "source": [
    "import matplotlib.pyplot as plt\n",
    " \n",
    "objects = ('Python', 'C++', 'Java', 'Perl', 'Scala', 'Lisp')\n",
    "y_pos = np.arange(len(objects))\n",
    "performance = [10,8,6,4,2,1]\n",
    " \n",
    "plt.bar(y_pos, performance, align='center', alpha=0.5)\n",
    "plt.xticks(y_pos, objects)\n",
    "plt.ylabel('Usage')\n",
    "plt.title('Programming language usage')\n",
    " \n",
    "plt.show()\n",
    "\n",
    "# Created a bar chart that shows the usage of programming languages from lowest to highest."
   ]
  },
  {
   "cell_type": "markdown",
   "metadata": {},
   "source": [
    "## Historgram Sample"
   ]
  },
  {
   "cell_type": "code",
   "execution_count": 13,
   "metadata": {},
   "outputs": [
    {
     "data": {
      "image/png": "[encoded data removed]",
      "text/plain": [
       "<Figure size 432x288 with 1 Axes>"
      ]
     },
     "metadata": {},
     "output_type": "display_data"
    }
   ],
   "source": [
    "import matplotlib.pyplot as plt\n",
    "\n",
    "x = np.random.normal(0.0,1.0,1000) # Draw random samples from a normal (Gaussian) distribution.\n",
    "\n",
    "plt.hist(x, bins=20)\n",
    "plt.ylabel('y-axis')\n",
    "plt.xlabel('x-axis')\n",
    "plt.title('Histogram Example')\n",
    "\n",
    "plt.show()\n",
    "\n",
    "# This example of a Histogram shows us that the data randomly generated in the array is more likely to stack up in the center of the graph as it is most popular.\n",
    "# This function would be best used for graphing the population density in a city or finding most popular age groups from a census."
   ]
  },
  {
   "cell_type": "markdown",
   "metadata": {},
   "source": [
    "## Scatter Diagram Example"
   ]
  },
  {
   "cell_type": "code",
   "execution_count": 14,
   "metadata": {},
   "outputs": [
    {
     "data": {
      "image/png": "[encoded data removed]",
      "text/plain": [
       "<Figure size 432x288 with 1 Axes>"
      ]
     },
     "metadata": {},
     "output_type": "display_data"
    }
   ],
   "source": [
    "import matplotlib.pyplot as plt\n",
    "\n",
    "x = np.random.uniform(0.0, 10.0, 100) # Draw samples from a uniform distribution.\n",
    "y = np.random.uniform(0.0, 100.0, 100)\n",
    "z = np.random.normal(100.0, 40.0, 100) # Draw random samples from a normal (Gaussian) distribution.\n",
    "c = np.random.randint(0, 20, 100) # Return random integers from low (inclusive) to high (exclusive).\n",
    "\n",
    "plt.scatter(x, y, c=c, s=z)\n",
    "plt.title('Scatter Example')\n",
    "\n",
    "plt.show()\n",
    "\n",
    "## Here we used the plt.scatter function to dislpay data on a scattered graph. "
   ]
  }
 ],
 "metadata": {
  "kernelspec": {
   "display_name": "Python 3",
   "language": "python",
   "name": "python3"
  },
  "language_info": {
   "codemirror_mode": {
    "name": "ipython",
    "version": 3
   },
   "file_extension": ".py",
   "mimetype": "text/x-python",
   "name": "python",
   "nbconvert_exporter": "python",
   "pygments_lexer": "ipython3",
   "version": "3.6.5"
  }
 },
 "nbformat": 4,
 "nbformat_minor": 2
}
