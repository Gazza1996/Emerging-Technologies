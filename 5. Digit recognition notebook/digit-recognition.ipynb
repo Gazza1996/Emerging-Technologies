{
 "cells": [
  {
   "cell_type": "markdown",
   "metadata": {},
   "source": [
    "## Importing Libraries"
   ]
  },
  {
   "cell_type": "markdown",
   "metadata": {},
   "source": [
    "Import gzip for the image files to be read.\n",
    "import the pillow library PIL to import Image.\n",
    "And finally import numpy as np like in previous notebooks."
   ]
  },
  {
   "cell_type": "markdown",
   "metadata": {},
   "source": [
    "## Part one"
   ]
  },
  {
   "cell_type": "markdown",
   "metadata": {},
   "source": [
    "Here i created a function to read the labels on the files as i learned in notebook 3.\n",
    "\n",
    "We want to output the magic number which is the first 4 bytes of the file and we convert the bytes into integers by using 'int.from_bytes()'\n",
    "\n",
    "We then did the exact same function and method to output the labels and also converted them to integers.\n",
    "\n",
    "Create a method to loop through the labels to read the label number and return it to the output. print out a break line for the upcoming second function and make a call to the first two image files in the dataset."
   ]
  },
  {
   "cell_type": "markdown",
   "metadata": {},
   "source": [
    "## Part two"
   ]
  },
  {
   "cell_type": "markdown",
   "metadata": {},
   "source": [
    "Part two I have a function to read the images.\n",
    "The first four main parts of this are similiar to part one where i simply get the data in the files which are bytes and convert them to integers when outputted.\n",
    "\n",
    "After these i created an array for the images. Then created a for loop where i finds the range in the img number. Repeat the same process for rows and columns below this.\n",
    "\n",
    "I then used the append function firstly to append the bytes for every column, then append columns array for every row and finally append the rows for every image and finally return the images."
   ]
  },
  {
   "cell_type": "markdown",
   "metadata": {},
   "source": [
    "##### append Updates the list by adding an object to the list. append(): It is basically used in Python to add one element."
   ]
  },
  {
   "cell_type": "markdown",
   "metadata": {},
   "source": [
    "## Part Three"
   ]
  },
  {
   "cell_type": "code",
   "execution_count": null,
   "metadata": {},
   "outputs": [],
   "source": []
  },
  {
   "cell_type": "markdown",
   "metadata": {},
   "source": [
    "## Part Four"
   ]
  },
  {
   "cell_type": "code",
   "execution_count": null,
   "metadata": {},
   "outputs": [],
   "source": []
  }
 ],
 "metadata": {
  "kernelspec": {
   "display_name": "Python 3",
   "language": "python",
   "name": "python3"
  },
  "language_info": {
   "codemirror_mode": {
    "name": "ipython",
    "version": 3
   },
   "file_extension": ".py",
   "mimetype": "text/x-python",
   "name": "python",
   "nbconvert_exporter": "python",
   "pygments_lexer": "ipython3",
   "version": "3.6.5"
  }
 },
 "nbformat": 4,
 "nbformat_minor": 2
}
