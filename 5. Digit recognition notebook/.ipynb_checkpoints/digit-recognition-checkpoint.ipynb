{
 "cells": [
  {
   "cell_type": "markdown",
   "metadata": {},
   "source": [
    "## Importing Libraries"
   ]
  },
  {
   "cell_type": "markdown",
   "metadata": {},
   "source": [
    "Import gzip for the image files to be read."
   ]
  },
  {
   "cell_type": "markdown",
   "metadata": {},
   "source": [
    "import the pillow library PIL to import Image."
   ]
  },
  {
   "cell_type": "markdown",
   "metadata": {},
   "source": [
    "And finally import numpy as np like in previous notebooks."
   ]
  },
  {
   "cell_type": "markdown",
   "metadata": {},
   "source": [
    "## Part one"
   ]
  },
  {
   "cell_type": "markdown",
   "metadata": {},
   "source": [
    "Here i created a function to read the labels on the files as i learned in notebook 3.\n",
    "\n",
    "We want to output the magic number which is the first 4 bytes of the file and we convert the bytes into integers by using 'int.from_bytes()'\n",
    "\n",
    "We then did the exact same function and method to output the labels and also converted them to integers.\n",
    "\n",
    "Create a method to loop through the labels to read the label number and return it to the output. print out a break line for the upcoming second function and make a call to the first two image files in the dataset."
   ]
  },
  {
   "cell_type": "markdown",
   "metadata": {},
   "source": [
    "## Part two"
   ]
  },
  {
   "cell_type": "markdown",
   "metadata": {},
   "source": [
    "Part two I have a function to read the images.\n",
    "The first four main parts of this are similiar to part one where i simply get the data in the files which are bytes and convert them to integers when outputted.\n",
    "\n",
    "After these i created an array for the images. Then created a for loop where i finds the range in the img number. Repeat the same process for rows and columns below this.\n",
    "\n",
    "I then used the append function firstly to append the bytes for every column, then append columns array for every row and finally append the rows for every image and finally return the images."
   ]
  },
  {
   "cell_type": "markdown",
   "metadata": {},
   "source": [
    "##### append Updates the list by adding an object to the list. append(): It is basically used in Python to add one element."
   ]
  },
  {
   "cell_type": "markdown",
   "metadata": {},
   "source": [
    "## Part Three"
   ]
  },
  {
   "cell_type": "markdown",
   "metadata": {},
   "source": [
    "Part three is where you call the function in order to read the image files from the above data already entered. The image is ran through the function and read in order for it to be downloaded in the next part."
   ]
  },
  {
   "cell_type": "markdown",
   "metadata": {},
   "source": [
    "## Part Four"
   ]
  },
  {
   "cell_type": "markdown",
   "metadata": {},
   "source": [
    "Part four allows us to download the images from part three and also the label files.\n",
    "\n",
    "We Have Python decompress the images and read them byte by byte into appropriate data structures in memory.\n",
    "\n",
    "We use the convert function to have the image in an RGB format and use img.show() in order to have the image displayed.\n",
    "\n",
    "img.save() will just save the image downloaded and place it in the same folder where the python file is saved. The image png file will be saved as 'train-750-7' where 750 is the bytes the number is in and 7 being the number downloaded."
   ]
  },
  {
   "cell_type": "markdown",
   "metadata": {},
   "source": [
    "## Performance"
   ]
  },
  {
   "cell_type": "markdown",
   "metadata": {},
   "source": [
    "The script was ran multiple times with different bytes entered for the train_image function. Changing this value returned to me different values with different labels. \n",
    "\n",
    "I went with bytes 750 as i knew this would return the value of 7 and that is what i wanted. \n",
    "The script works as intended as excutes perfectly. It is slow to read numbers and labels of the files and then also slow to read the rows and columns within the bytes.\n",
    "\n",
    "Once it gathers all this information it runs successfully by outputting the image and saving it as a png file as intended."
   ]
  }
 ],
 "metadata": {
  "kernelspec": {
   "display_name": "Python 3",
   "language": "python",
   "name": "python3"
  },
  "language_info": {
   "codemirror_mode": {
    "name": "ipython",
    "version": 3
   },
   "file_extension": ".py",
   "mimetype": "text/x-python",
   "name": "python",
   "nbconvert_exporter": "python",
   "pygments_lexer": "ipython3",
   "version": "3.6.5"
  }
 },
 "nbformat": 4,
 "nbformat_minor": 2
}
